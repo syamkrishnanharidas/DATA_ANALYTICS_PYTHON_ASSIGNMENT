{
  "cells": [
    {
      "cell_type": "markdown",
      "metadata": {
        "id": "view-in-github",
        "colab_type": "text"
      },
      "source": [
        "<a href=\"https://colab.research.google.com/github/syamkrishnanharidas/DATA_ANALYTICS_PYTHON_ASSIGNMENT/blob/main/numpy_pandas_casestudy_questions.ipynb\" target=\"_parent\"><img src=\"https://colab.research.google.com/assets/colab-badge.svg\" alt=\"Open In Colab\"/></a>"
      ]
    },
    {
      "cell_type": "markdown",
      "metadata": {
        "id": "19SImsZm8nkP"
      },
      "source": [
        "# 📚 **NumPy, Pandas, Matplotlib, and Seaborn Practice Questions**\n",
        "---\n",
        "This notebook contains four sets of practice questions covering NumPy, Pandas, Matplotlib, and Seaborn. Complete the tasks below and run the respective cells."
      ],
      "id": "19SImsZm8nkP"
    },
    {
      "cell_type": "markdown",
      "metadata": {
        "id": "MFP2kuMK8nkg"
      },
      "source": [
        "## 🧠 **Question 1: NumPy Array Manipulation**\n",
        "1. Create a 1D NumPy array with integers from **1 to 24**.  \n",
        "2. Reshape the array into a **4x6 matrix**.  \n",
        "3. Extract the **third row** and **second column** from the reshaped array.  \n",
        "4. Transpose the matrix and display the result."
      ],
      "id": "MFP2kuMK8nkg"
    },
    {
      "cell_type": "code",
      "metadata": {
        "colab": {
          "base_uri": "https://localhost:8080/"
        },
        "id": "iFYfFJNf8nkh",
        "outputId": "1547ad32-018a-48b2-e8a5-38ca14584f82"
      },
      "source": [
        "# Solution for Question 1\n",
        "import numpy as np\n",
        "# Your code here\n",
        "#1.Create a 1D NumPy array with integers from 1 to 24.\n",
        "a1=np.arange(1,25)\n",
        "#2.Reshape the array into a 4x6 matrix.\n",
        "data=a1.reshape(4,6)\n",
        "print(data)\n",
        "#3.Extract the third row and second column from the reshaped array.\n",
        "print(data[2,1])\n",
        "#4.Transpose the matrix and display the result.\n",
        "data1=np.transpose(data)\n",
        "print(data1)"
      ],
      "outputs": [
        {
          "output_type": "stream",
          "name": "stdout",
          "text": [
            "[[ 1  2  3  4  5  6]\n",
            " [ 7  8  9 10 11 12]\n",
            " [13 14 15 16 17 18]\n",
            " [19 20 21 22 23 24]]\n",
            "14\n",
            "[[ 1  7 13 19]\n",
            " [ 2  8 14 20]\n",
            " [ 3  9 15 21]\n",
            " [ 4 10 16 22]\n",
            " [ 5 11 17 23]\n",
            " [ 6 12 18 24]]\n"
          ]
        }
      ],
      "id": "iFYfFJNf8nkh",
      "execution_count": 137
    },
    {
      "cell_type": "markdown",
      "metadata": {
        "id": "3_ZfcKn58nkk"
      },
      "source": [
        "## 🧠 **Question 2: Array Element Extraction**\n",
        "1. Create a **5x5 NumPy array** with random integers between **10 and 100**.  \n",
        "2. Extract all the **even numbers** from the array.  \n",
        "3. Replace all numbers **greater than 50** with **0**.  \n",
        "4. Extract the diagonal elements of the array."
      ],
      "id": "3_ZfcKn58nkk"
    },
    {
      "cell_type": "code",
      "metadata": {
        "colab": {
          "base_uri": "https://localhost:8080/"
        },
        "id": "FlpecQxY8nkl",
        "outputId": "8b95af9d-f903-4b3a-d5d5-2e5f4998020c"
      },
      "source": [
        "# Solution for Question 2\n",
        "import numpy as np\n",
        "# Your code here\n",
        "#1.Create a 5x5 NumPy array with random integers between 10 and 100.\n",
        "a1=np.arange(10,100)\n",
        "print(a1)\n",
        "a2=np.random.choice(a1,25)\n",
        "a2=a2.reshape(5,5)\n",
        "print(a2)\n",
        "#2.Extract all the even numbers from the array.\n",
        "a3=np.where(a2%2==0,a2,0)\n",
        "print(a3)\n",
        "#3.Replace all numbers greater than 50 with 0.\n",
        "a4=np.where(a3>50,0,a3)\n",
        "print(a4)\n",
        "#4.Extract the diagonal elements of the array.\n",
        "a5=np.diag(a4)\n",
        "print(a5)\n"
      ],
      "outputs": [
        {
          "output_type": "stream",
          "name": "stdout",
          "text": [
            "[10 11 12 13 14 15 16 17 18 19 20 21 22 23 24 25 26 27 28 29 30 31 32 33\n",
            " 34 35 36 37 38 39 40 41 42 43 44 45 46 47 48 49 50 51 52 53 54 55 56 57\n",
            " 58 59 60 61 62 63 64 65 66 67 68 69 70 71 72 73 74 75 76 77 78 79 80 81\n",
            " 82 83 84 85 86 87 88 89 90 91 92 93 94 95 96 97 98 99]\n",
            "[[26 92 71 76 20]\n",
            " [11 25 58 76 65]\n",
            " [56 91 90 26 99]\n",
            " [48 33 53 30 73]\n",
            " [11 83 22 49 84]]\n",
            "[[26 92  0 76 20]\n",
            " [ 0  0 58 76  0]\n",
            " [56  0 90 26  0]\n",
            " [48  0  0 30  0]\n",
            " [ 0  0 22  0 84]]\n",
            "[[26  0  0  0 20]\n",
            " [ 0  0  0  0  0]\n",
            " [ 0  0  0 26  0]\n",
            " [48  0  0 30  0]\n",
            " [ 0  0 22  0  0]]\n",
            "[26  0  0 30  0]\n"
          ]
        }
      ],
      "id": "FlpecQxY8nkl",
      "execution_count": 138
    },
    {
      "cell_type": "markdown",
      "metadata": {
        "id": "ocdnNOt68nkl"
      },
      "source": [
        "## 🧠 **Question 3: DataFrame Creation and Operations (Pandas)**\n",
        "1. Create a Pandas DataFrame containing the following data:\n",
        "\n",
        "| Student_ID | Name   | Subject | Marks |\n",
        "|------------|--------|---------|-------|\n",
        "| 1          | Alice  | Math    | 88    |\n",
        "| 2          | Bob    | Science | 75    |\n",
        "| 3          | Carol  | History | 92    |\n",
        "| 4          | David  | Math    | 85    |\n",
        "| 5          | Eva    | Science | 90    |\n",
        "\n",
        "2. Find the **average marks** for each subject.  \n",
        "3. Add a new column named **Grade** based on the marks:\n",
        "- Marks ≥ 90 → A\n",
        "- Marks ≥ 80 → B\n",
        "- Marks ≥ 70 → C\n",
        "- Else → D"
      ],
      "id": "ocdnNOt68nkl"
    },
    {
      "cell_type": "code",
      "metadata": {
        "id": "B4g44AwQ8nkm",
        "colab": {
          "base_uri": "https://localhost:8080/"
        },
        "outputId": "3be267bc-00ca-4a4b-afb1-d4da3ba237e7"
      },
      "source": [
        "# Solution for Question 3\n",
        "import pandas as pd\n",
        "# Your code here\n",
        "#1.Create a Pandas DataFrame containing the following data:\n",
        "df={'STUDENT_ID':[1,2,3,4,5],\n",
        "    'NAME':['Alice','Bob','Carol','David','Eva'],\n",
        "    'SUBJECTS':['Math','Science','History','Math','Science'],\n",
        "    'MARKS':[88,75,92,85,90]}\n",
        "data=pd.DataFrame(df)\n",
        "print(data)\n",
        "#2.Find the average marks for each subject\n",
        "print('AVERAGE MARKS')\n",
        "print(data.groupby('SUBJECTS')['MARKS'].mean())\n",
        "#3.Add a new column named Grade based on the marks:\n",
        "data['GRADES']=['B','C','A','B','A']\n",
        "print(data)"
      ],
      "outputs": [
        {
          "output_type": "stream",
          "name": "stdout",
          "text": [
            "   STUDENT_ID   NAME SUBJECTS  MARKS\n",
            "0           1  Alice     Math     88\n",
            "1           2    Bob  Science     75\n",
            "2           3  Carol  History     92\n",
            "3           4  David     Math     85\n",
            "4           5    Eva  Science     90\n",
            "AVERAGE MARKS\n",
            "SUBJECTS\n",
            "History    92.0\n",
            "Math       86.5\n",
            "Science    82.5\n",
            "Name: MARKS, dtype: float64\n",
            "   STUDENT_ID   NAME SUBJECTS  MARKS GRADES\n",
            "0           1  Alice     Math     88      B\n",
            "1           2    Bob  Science     75      C\n",
            "2           3  Carol  History     92      A\n",
            "3           4  David     Math     85      B\n",
            "4           5    Eva  Science     90      A\n"
          ]
        }
      ],
      "id": "B4g44AwQ8nkm",
      "execution_count": 139
    },
    {
      "cell_type": "markdown",
      "metadata": {
        "id": "XkVjbu0s8nkm"
      },
      "source": [
        "## 🧠 **Question 4: Dataset Analysis (Pandas, Matplotlib, Seaborn)**\n",
        "Use the dataset `diabetes.csv` and perform the following tasks:\n",
        "\n",
        "1. Display the **BMI** and **Blood Pressure** for samples with **index ranging from 20 to 40**.  \n",
        "2. Find how many patients have **BMI > 30**.  \n",
        "3. Find the **mean and standard deviation** of the **Glucose** levels.  \n",
        "4. Plot a **boxplot** for the column **Insulin**.  \n",
        "5. Create a **heatmap** showing the correlation between the numerical columns in the dataset."
      ],
      "id": "XkVjbu0s8nkm"
    },
    {
      "cell_type": "code",
      "metadata": {
        "id": "vKEMBKxh8nkm",
        "colab": {
          "base_uri": "https://localhost:8080/",
          "height": 1000
        },
        "outputId": "c1123bee-ae5b-48e4-d5ba-2f0770cebe86"
      },
      "source": [
        "# Solution for Question 4\n",
        "import pandas as pd\n",
        "import matplotlib.pyplot as plt\n",
        "import seaborn as sns\n",
        "# Your code here\n",
        "df=pd.read_csv('/content/diabetes_model.csv')\n",
        "#1.Display the BMI and Blood Pressure for samples with index ranging from 20 to 40\n",
        "df1=df.loc[20:40,['BMI','BloodPressure']]\n",
        "print(df1)\n",
        "#2.Find how many patients have BMI > 30\n",
        "df2=df[df['BMI']>30]\n",
        "print(df2)\n",
        "#3.Find the mean and standard deviation of the Glucose levels.\n",
        "print('MEAN:')\n",
        "print(df['Glucose'].mean())\n",
        "print('STANDARD DEVIATION:')\n",
        "print(df['Glucose'].std())\n",
        "print(df)\n",
        "#4.Plot a boxplot for the column Insulin\n",
        "plt.boxplot(df['Insulin'])\n",
        "plt.show()\n",
        "#5.Create a heatmap showing the correlation between the numerical columns in the dataset.\n",
        "sns.heatmap(df.corr())\n",
        "plt.show()\n",
        "\n",
        "\n",
        "\n"
      ],
      "outputs": [
        {
          "output_type": "stream",
          "name": "stdout",
          "text": [
            "     BMI  BloodPressure\n",
            "20  34.2             70\n",
            "21  35.0             82\n",
            "22  30.5             74\n",
            "23  31.6             70\n",
            "24  22.1             62\n",
            "25  27.1             88\n",
            "26  43.5             60\n",
            "27  36.0             75\n",
            "28  34.2             70\n",
            "29  36.5             90\n",
            "30  30.4             86\n",
            "31  43.3             78\n",
            "32  37.7             68\n",
            "33  23.0             78\n",
            "34  46.1             78\n",
            "35  32.8             78\n",
            "36  43.3             30\n",
            "37  26.5             68\n",
            "38  28.0              0\n",
            "39  46.8             84\n",
            "40  24.4             55\n",
            "     Pregnancies  Glucose  BloodPressure  SkinThickness  Insulin   BMI  \\\n",
            "0              5       77             82             41       42  35.8   \n",
            "1              9      122             56              0        0  33.3   \n",
            "2              0      113             76              0        0  33.3   \n",
            "3              1      139             62             41      480  40.7   \n",
            "7              2      122             52             43      158  36.2   \n",
            "..           ...      ...            ...            ...      ...   ...   \n",
            "604            2      100             70             52       57  40.5   \n",
            "605            5       86             68             28       71  30.2   \n",
            "607            5      143             78              0        0  45.0   \n",
            "611            3      121             52              0        0  36.0   \n",
            "613            4      156             75              0        0  48.3   \n",
            "\n",
            "     DiabetesPedigreeFunction  Age  Outcome  \n",
            "0                       0.156   35        0  \n",
            "1                       1.114   33        1  \n",
            "2                       0.278   23        1  \n",
            "3                       0.536   21        0  \n",
            "7                       0.816   28        0  \n",
            "..                        ...  ...      ...  \n",
            "604                     0.677   25        0  \n",
            "605                     0.364   24        0  \n",
            "607                     0.190   47        0  \n",
            "611                     0.127   25        1  \n",
            "613                     0.238   32        1  \n",
            "\n",
            "[372 rows x 9 columns]\n",
            "MEAN:\n",
            "121.5\n",
            "STANDARD DEVIATION:\n",
            "32.27591842655023\n",
            "     Pregnancies  Glucose  BloodPressure  SkinThickness  Insulin   BMI  \\\n",
            "0              5       77             82             41       42  35.8   \n",
            "1              9      122             56              0        0  33.3   \n",
            "2              0      113             76              0        0  33.3   \n",
            "3              1      139             62             41      480  40.7   \n",
            "4             10      161             68             23      132  25.5   \n",
            "..           ...      ...            ...            ...      ...   ...   \n",
            "609            4      114             64              0        0  28.9   \n",
            "610            2      175             88              0        0  22.9   \n",
            "611            3      121             52              0        0  36.0   \n",
            "612            7      136             74             26      135  26.0   \n",
            "613            4      156             75              0        0  48.3   \n",
            "\n",
            "     DiabetesPedigreeFunction  Age  Outcome  \n",
            "0                       0.156   35        0  \n",
            "1                       1.114   33        1  \n",
            "2                       0.278   23        1  \n",
            "3                       0.536   21        0  \n",
            "4                       0.326   47        1  \n",
            "..                        ...  ...      ...  \n",
            "609                     0.126   24        0  \n",
            "610                     0.326   22        0  \n",
            "611                     0.127   25        1  \n",
            "612                     0.647   51        0  \n",
            "613                     0.238   32        1  \n",
            "\n",
            "[614 rows x 9 columns]\n"
          ]
        },
        {
          "output_type": "display_data",
          "data": {
            "text/plain": [
              "<Figure size 640x480 with 1 Axes>"
            ],
            "image/png": "[encoded data removed]"
          },
          "metadata": {}
        },
        {
          "output_type": "display_data",
          "data": {
            "text/plain": [
              "<Figure size 640x480 with 2 Axes>"
            ],
            "image/png": "[encoded data removed]"
          },
          "metadata": {}
        }
      ],
      "id": "vKEMBKxh8nkm",
      "execution_count": 140
    }
  ],
  "metadata": {
    "kernelspec": {
      "display_name": "Python 3",
      "language": "python",
      "name": "python3"
    },
    "language_info": {
      "name": "python",
      "version": "3.x"
    },
    "colab": {
      "provenance": [],
      "include_colab_link": true
    }
  },
  "nbformat": 4,
  "nbformat_minor": 5
}