{
  "cells": [
    {
      "cell_type": "markdown",
      "metadata": {
        "id": "view-in-github",
        "colab_type": "text"
      },
      "source": [
        "<a href=\"https://colab.research.google.com/github/syamkrishnanharidas/DATA_ANALYTICS_PYTHON_ASSIGNMENT/blob/main/A06_TITANIC.ipynb\" target=\"_parent\"><img src=\"https://colab.research.google.com/assets/colab-badge.svg\" alt=\"Open In Colab\"/></a>"
      ]
    },
    {
      "cell_type": "code",
      "execution_count": null,
      "id": "aac1703d-4242-4462-a166-aaaaeb163636",
      "metadata": {
        "id": "aac1703d-4242-4462-a166-aaaaeb163636"
      },
      "outputs": [],
      "source": [
        "import pandas as pd\n",
        "import numpy as np\n",
        "import matplotlib.pyplot as plt\n",
        "import seaborn as sns"
      ]
    },
    {
      "cell_type": "markdown",
      "id": "bbd2d770-8658-4b43-a6cf-a0dd48900fe8",
      "metadata": {
        "id": "bbd2d770-8658-4b43-a6cf-a0dd48900fe8"
      },
      "source": [
        "# 1. Load the dataset into python environment."
      ]
    },
    {
      "cell_type": "code",
      "execution_count": null,
      "id": "0627eb93-34b8-498f-b9aa-0553cf2aeca3",
      "metadata": {
        "id": "0627eb93-34b8-498f-b9aa-0553cf2aeca3"
      },
      "outputs": [],
      "source": [
        "rawdata = pd.read_csv('/content/titanic_dataset.csv',index_col ='PassengerId')"
      ]
    },
    {
      "cell_type": "markdown",
      "id": "04e3c75a-81fb-4bbe-b819-88d60242e81f",
      "metadata": {
        "id": "04e3c75a-81fb-4bbe-b819-88d60242e81f"
      },
      "source": [
        "#  2. Make ‘PassengerId’ as the index column."
      ]
    },
    {
      "cell_type": "code",
      "execution_count": null,
      "id": "dc2df631-840f-4496-8406-3c05674941b9",
      "metadata": {
        "id": "dc2df631-840f-4496-8406-3c05674941b9",
        "outputId": "d2e5f542-24ca-4471-ea67-29d92e40c5cd"
      },
      "outputs": [
        {
          "data": {
            "text/html": [
              "<div>\n",
              "<style scoped>\n",
              "    .dataframe tbody tr th:only-of-type {\n",
              "        vertical-align: middle;\n",
              "    }\n",
              "\n",
              "    .dataframe tbody tr th {\n",
              "        vertical-align: top;\n",
              "    }\n",
              "\n",
              "    .dataframe thead th {\n",
              "        text-align: right;\n",
              "    }\n",
              "</style>\n",
              "<table border=\"1\" class=\"dataframe\">\n",
              "  <thead>\n",
              "    <tr style=\"text-align: right;\">\n",
              "      <th></th>\n",
              "      <th>Survived</th>\n",
              "      <th>Pclass</th>\n",
              "      <th>Name</th>\n",
              "      <th>Sex</th>\n",
              "      <th>Age</th>\n",
              "      <th>SibSp</th>\n",
              "      <th>Parch</th>\n",
              "      <th>Ticket</th>\n",
              "      <th>Fare</th>\n",
              "      <th>Cabin</th>\n",
              "      <th>Embarked</th>\n",
              "    </tr>\n",
              "    <tr>\n",
              "      <th>PassengerId</th>\n",
              "      <th></th>\n",
              "      <th></th>\n",
              "      <th></th>\n",
              "      <th></th>\n",
              "      <th></th>\n",
              "      <th></th>\n",
              "      <th></th>\n",
              "      <th></th>\n",
              "      <th></th>\n",
              "      <th></th>\n",
              "      <th></th>\n",
              "    </tr>\n",
              "  </thead>\n",
              "  <tbody>\n",
              "    <tr>\n",
              "      <th>1</th>\n",
              "      <td>0</td>\n",
              "      <td>3</td>\n",
              "      <td>Braund, Mr. Owen Harris</td>\n",
              "      <td>male</td>\n",
              "      <td>22.0</td>\n",
              "      <td>1</td>\n",
              "      <td>0</td>\n",
              "      <td>A/5 21171</td>\n",
              "      <td>7.2500</td>\n",
              "      <td>NaN</td>\n",
              "      <td>S</td>\n",
              "    </tr>\n",
              "    <tr>\n",
              "      <th>2</th>\n",
              "      <td>1</td>\n",
              "      <td>1</td>\n",
              "      <td>Cumings, Mrs. John Bradley (Florence Briggs Th...</td>\n",
              "      <td>female</td>\n",
              "      <td>38.0</td>\n",
              "      <td>1</td>\n",
              "      <td>0</td>\n",
              "      <td>PC 17599</td>\n",
              "      <td>71.2833</td>\n",
              "      <td>C85</td>\n",
              "      <td>C</td>\n",
              "    </tr>\n",
              "    <tr>\n",
              "      <th>3</th>\n",
              "      <td>1</td>\n",
              "      <td>3</td>\n",
              "      <td>Heikkinen, Miss. Laina</td>\n",
              "      <td>female</td>\n",
              "      <td>26.0</td>\n",
              "      <td>0</td>\n",
              "      <td>0</td>\n",
              "      <td>STON/O2. 3101282</td>\n",
              "      <td>7.9250</td>\n",
              "      <td>NaN</td>\n",
              "      <td>S</td>\n",
              "    </tr>\n",
              "    <tr>\n",
              "      <th>4</th>\n",
              "      <td>1</td>\n",
              "      <td>1</td>\n",
              "      <td>Futrelle, Mrs. Jacques Heath (Lily May Peel)</td>\n",
              "      <td>female</td>\n",
              "      <td>35.0</td>\n",
              "      <td>1</td>\n",
              "      <td>0</td>\n",
              "      <td>113803</td>\n",
              "      <td>53.1000</td>\n",
              "      <td>C123</td>\n",
              "      <td>S</td>\n",
              "    </tr>\n",
              "    <tr>\n",
              "      <th>5</th>\n",
              "      <td>0</td>\n",
              "      <td>3</td>\n",
              "      <td>Allen, Mr. William Henry</td>\n",
              "      <td>male</td>\n",
              "      <td>35.0</td>\n",
              "      <td>0</td>\n",
              "      <td>0</td>\n",
              "      <td>373450</td>\n",
              "      <td>8.0500</td>\n",
              "      <td>NaN</td>\n",
              "      <td>S</td>\n",
              "    </tr>\n",
              "    <tr>\n",
              "      <th>...</th>\n",
              "      <td>...</td>\n",
              "      <td>...</td>\n",
              "      <td>...</td>\n",
              "      <td>...</td>\n",
              "      <td>...</td>\n",
              "      <td>...</td>\n",
              "      <td>...</td>\n",
              "      <td>...</td>\n",
              "      <td>...</td>\n",
              "      <td>...</td>\n",
              "      <td>...</td>\n",
              "    </tr>\n",
              "    <tr>\n",
              "      <th>887</th>\n",
              "      <td>0</td>\n",
              "      <td>2</td>\n",
              "      <td>Montvila, Rev. Juozas</td>\n",
              "      <td>male</td>\n",
              "      <td>27.0</td>\n",
              "      <td>0</td>\n",
              "      <td>0</td>\n",
              "      <td>211536</td>\n",
              "      <td>13.0000</td>\n",
              "      <td>NaN</td>\n",
              "      <td>S</td>\n",
              "    </tr>\n",
              "    <tr>\n",
              "      <th>888</th>\n",
              "      <td>1</td>\n",
              "      <td>1</td>\n",
              "      <td>Graham, Miss. Margaret Edith</td>\n",
              "      <td>female</td>\n",
              "      <td>19.0</td>\n",
              "      <td>0</td>\n",
              "      <td>0</td>\n",
              "      <td>112053</td>\n",
              "      <td>30.0000</td>\n",
              "      <td>B42</td>\n",
              "      <td>S</td>\n",
              "    </tr>\n",
              "    <tr>\n",
              "      <th>889</th>\n",
              "      <td>0</td>\n",
              "      <td>3</td>\n",
              "      <td>Johnston, Miss. Catherine Helen \"Carrie\"</td>\n",
              "      <td>female</td>\n",
              "      <td>NaN</td>\n",
              "      <td>1</td>\n",
              "      <td>2</td>\n",
              "      <td>W./C. 6607</td>\n",
              "      <td>23.4500</td>\n",
              "      <td>NaN</td>\n",
              "      <td>S</td>\n",
              "    </tr>\n",
              "    <tr>\n",
              "      <th>890</th>\n",
              "      <td>1</td>\n",
              "      <td>1</td>\n",
              "      <td>Behr, Mr. Karl Howell</td>\n",
              "      <td>male</td>\n",
              "      <td>26.0</td>\n",
              "      <td>0</td>\n",
              "      <td>0</td>\n",
              "      <td>111369</td>\n",
              "      <td>30.0000</td>\n",
              "      <td>C148</td>\n",
              "      <td>C</td>\n",
              "    </tr>\n",
              "    <tr>\n",
              "      <th>891</th>\n",
              "      <td>0</td>\n",
              "      <td>3</td>\n",
              "      <td>Dooley, Mr. Patrick</td>\n",
              "      <td>male</td>\n",
              "      <td>32.0</td>\n",
              "      <td>0</td>\n",
              "      <td>0</td>\n",
              "      <td>370376</td>\n",
              "      <td>7.7500</td>\n",
              "      <td>NaN</td>\n",
              "      <td>Q</td>\n",
              "    </tr>\n",
              "  </tbody>\n",
              "</table>\n",
              "<p>891 rows × 11 columns</p>\n",
              "</div>"
            ],
            "text/plain": [
              "             Survived  Pclass  \\\n",
              "PassengerId                     \n",
              "1                   0       3   \n",
              "2                   1       1   \n",
              "3                   1       3   \n",
              "4                   1       1   \n",
              "5                   0       3   \n",
              "...               ...     ...   \n",
              "887                 0       2   \n",
              "888                 1       1   \n",
              "889                 0       3   \n",
              "890                 1       1   \n",
              "891                 0       3   \n",
              "\n",
              "                                                          Name     Sex   Age  \\\n",
              "PassengerId                                                                    \n",
              "1                                      Braund, Mr. Owen Harris    male  22.0   \n",
              "2            Cumings, Mrs. John Bradley (Florence Briggs Th...  female  38.0   \n",
              "3                                       Heikkinen, Miss. Laina  female  26.0   \n",
              "4                 Futrelle, Mrs. Jacques Heath (Lily May Peel)  female  35.0   \n",
              "5                                     Allen, Mr. William Henry    male  35.0   \n",
              "...                                                        ...     ...   ...   \n",
              "887                                      Montvila, Rev. Juozas    male  27.0   \n",
              "888                               Graham, Miss. Margaret Edith  female  19.0   \n",
              "889                   Johnston, Miss. Catherine Helen \"Carrie\"  female   NaN   \n",
              "890                                      Behr, Mr. Karl Howell    male  26.0   \n",
              "891                                        Dooley, Mr. Patrick    male  32.0   \n",
              "\n",
              "             SibSp  Parch            Ticket     Fare Cabin Embarked  \n",
              "PassengerId                                                          \n",
              "1                1      0         A/5 21171   7.2500   NaN        S  \n",
              "2                1      0          PC 17599  71.2833   C85        C  \n",
              "3                0      0  STON/O2. 3101282   7.9250   NaN        S  \n",
              "4                1      0            113803  53.1000  C123        S  \n",
              "5                0      0            373450   8.0500   NaN        S  \n",
              "...            ...    ...               ...      ...   ...      ...  \n",
              "887              0      0            211536  13.0000   NaN        S  \n",
              "888              0      0            112053  30.0000   B42        S  \n",
              "889              1      2        W./C. 6607  23.4500   NaN        S  \n",
              "890              0      0            111369  30.0000  C148        C  \n",
              "891              0      0            370376   7.7500   NaN        Q  \n",
              "\n",
              "[891 rows x 11 columns]"
            ]
          },
          "execution_count": 259,
          "metadata": {},
          "output_type": "execute_result"
        }
      ],
      "source": [
        "df1= pd.DataFrame(rawdata)\n",
        "df1"
      ]
    },
    {
      "cell_type": "markdown",
      "id": "3d936029-e2ab-4caa-8aa5-2d8fe135e1e2",
      "metadata": {
        "id": "3d936029-e2ab-4caa-8aa5-2d8fe135e1e2"
      },
      "source": [
        "# 3. Check the basic details of the dataset."
      ]
    },
    {
      "cell_type": "code",
      "execution_count": null,
      "id": "e8f139a2-ef5e-4f3d-9bdb-5c64e58a4d43",
      "metadata": {
        "id": "e8f139a2-ef5e-4f3d-9bdb-5c64e58a4d43",
        "outputId": "95cf76dc-7500-4353-aafa-da9f1fb65fec"
      },
      "outputs": [
        {
          "name": "stdout",
          "output_type": "stream",
          "text": [
            "<class 'pandas.core.frame.DataFrame'>\n",
            "Index: 891 entries, 1 to 891\n",
            "Data columns (total 11 columns):\n",
            " #   Column    Non-Null Count  Dtype  \n",
            "---  ------    --------------  -----  \n",
            " 0   Survived  891 non-null    int64  \n",
            " 1   Pclass    891 non-null    int64  \n",
            " 2   Name      891 non-null    object \n",
            " 3   Sex       891 non-null    object \n",
            " 4   Age       714 non-null    float64\n",
            " 5   SibSp     891 non-null    int64  \n",
            " 6   Parch     891 non-null    int64  \n",
            " 7   Ticket    891 non-null    object \n",
            " 8   Fare      891 non-null    float64\n",
            " 9   Cabin     204 non-null    object \n",
            " 10  Embarked  889 non-null    object \n",
            "dtypes: float64(2), int64(4), object(5)\n",
            "memory usage: 83.5+ KB\n"
          ]
        }
      ],
      "source": [
        "df1.info()"
      ]
    },
    {
      "cell_type": "markdown",
      "id": "90ef3eed-a98d-4973-a9e2-6a212a592b65",
      "metadata": {
        "id": "90ef3eed-a98d-4973-a9e2-6a212a592b65"
      },
      "source": [
        "# 4. Fill in all the missing values present in all the columns in the dataset."
      ]
    },
    {
      "cell_type": "code",
      "execution_count": null,
      "id": "7024e8f8-e370-490b-96c2-67a5aed04e89",
      "metadata": {
        "id": "7024e8f8-e370-490b-96c2-67a5aed04e89",
        "outputId": "cffa677e-c7da-4d2c-a920-c28980be9103"
      },
      "outputs": [
        {
          "data": {
            "text/plain": [
              "Survived      0\n",
              "Pclass        0\n",
              "Name          0\n",
              "Sex           0\n",
              "Age         177\n",
              "SibSp         0\n",
              "Parch         0\n",
              "Ticket        0\n",
              "Fare          0\n",
              "Cabin       687\n",
              "Embarked      2\n",
              "dtype: int64"
            ]
          },
          "execution_count": 261,
          "metadata": {},
          "output_type": "execute_result"
        }
      ],
      "source": [
        "df1.isna().sum()"
      ]
    },
    {
      "cell_type": "code",
      "execution_count": null,
      "id": "4b363998-cfec-4c24-801a-348e331f9fe4",
      "metadata": {
        "id": "4b363998-cfec-4c24-801a-348e331f9fe4",
        "outputId": "0ee03e18-abfd-45ed-d32b-40c4589ba5ce"
      },
      "outputs": [
        {
          "data": {
            "image/png": "[encoded data removed]",
            "text/plain": [
              "<Figure size 2000x1500 with 2 Axes>"
            ]
          },
          "metadata": {},
          "output_type": "display_data"
        }
      ],
      "source": [
        "freq_graph = df1.select_dtypes(include = 'float')\n",
        "freq_graph.hist(figsize = [20,15])\n",
        "plt.show()"
      ]
    },
    {
      "cell_type": "code",
      "execution_count": null,
      "id": "a2d4315a-e4a0-4d74-b44b-fb116de7a085",
      "metadata": {
        "id": "a2d4315a-e4a0-4d74-b44b-fb116de7a085"
      },
      "outputs": [],
      "source": []
    },
    {
      "cell_type": "markdown",
      "id": "8b7cf426-fa03-4025-901e-320eae67d7f2",
      "metadata": {
        "id": "8b7cf426-fa03-4025-901e-320eae67d7f2"
      },
      "source": [
        "# Since Age details follows normal distribution we can either choose mean or median."
      ]
    },
    {
      "cell_type": "code",
      "execution_count": null,
      "id": "c4b2d340-949f-418d-a92f-b020fd893cf8",
      "metadata": {
        "id": "c4b2d340-949f-418d-a92f-b020fd893cf8"
      },
      "outputs": [],
      "source": [
        "df1['Age'] = df1['Age'].fillna(df1['Age'].mean())"
      ]
    },
    {
      "cell_type": "markdown",
      "id": "78e8592d-21df-4653-aeaa-f1980c9e72fc",
      "metadata": {
        "id": "78e8592d-21df-4653-aeaa-f1980c9e72fc"
      },
      "source": [
        "#   LABEL ENCODING"
      ]
    },
    {
      "cell_type": "code",
      "execution_count": null,
      "id": "d8f5f560-5dfd-49b4-ae62-91dd89bcd6c9",
      "metadata": {
        "id": "d8f5f560-5dfd-49b4-ae62-91dd89bcd6c9",
        "outputId": "1b4807f9-0e51-410e-e0b3-705a09217874"
      },
      "outputs": [
        {
          "data": {
            "text/plain": [
              "2"
            ]
          },
          "execution_count": 265,
          "metadata": {},
          "output_type": "execute_result"
        }
      ],
      "source": [
        "from sklearn.preprocessing import LabelEncoder\n",
        "le = LabelEncoder()\n",
        "df1['Sex'] = le.fit_transform(df1['Sex'])\n",
        "df1['Sex'].nunique()"
      ]
    },
    {
      "cell_type": "code",
      "execution_count": null,
      "id": "2ee45336-8d0b-4c9f-9f3a-d0b40258a861",
      "metadata": {
        "id": "2ee45336-8d0b-4c9f-9f3a-d0b40258a861",
        "outputId": "682f8b44-b075-4352-b5c4-455ba7f46cc1"
      },
      "outputs": [
        {
          "data": {
            "text/plain": [
              "148"
            ]
          },
          "execution_count": 267,
          "metadata": {},
          "output_type": "execute_result"
        }
      ],
      "source": [
        "from sklearn.preprocessing import LabelEncoder\n",
        "le = LabelEncoder()\n",
        "df1['Cabin'] = le.fit_transform(df1['Cabin'])\n",
        "df1['Cabin'].nunique()"
      ]
    },
    {
      "cell_type": "code",
      "execution_count": null,
      "id": "5c5c5288-d1bc-483b-aad4-98b7a26dc2ae",
      "metadata": {
        "id": "5c5c5288-d1bc-483b-aad4-98b7a26dc2ae",
        "outputId": "84fbcca1-d786-41a2-9018-bf0969d45fdd"
      },
      "outputs": [
        {
          "data": {
            "text/plain": [
              "4"
            ]
          },
          "execution_count": 273,
          "metadata": {},
          "output_type": "execute_result"
        }
      ],
      "source": [
        "from sklearn.preprocessing import LabelEncoder\n",
        "le = LabelEncoder()\n",
        "df1['Embarked'] = le.fit_transform(data['Embarked'])\n",
        "df1['Embarked'].nunique()"
      ]
    },
    {
      "cell_type": "code",
      "execution_count": null,
      "id": "b40ec965-60f5-4f40-8646-1865f5a547df",
      "metadata": {
        "id": "b40ec965-60f5-4f40-8646-1865f5a547df",
        "outputId": "a2dfe6b3-1f6f-412e-950e-b92161b4c3ce"
      },
      "outputs": [
        {
          "data": {
            "text/plain": [
              "Survived    0\n",
              "Pclass      0\n",
              "Name        0\n",
              "Sex         0\n",
              "Age         0\n",
              "SibSp       0\n",
              "Parch       0\n",
              "Ticket      0\n",
              "Fare        0\n",
              "Cabin       0\n",
              "Embarked    0\n",
              "dtype: int64"
            ]
          },
          "execution_count": 275,
          "metadata": {},
          "output_type": "execute_result"
        }
      ],
      "source": [
        "df1.isna().sum()"
      ]
    },
    {
      "cell_type": "markdown",
      "id": "7db6af75-a712-452d-9b7c-1a6e4043cb61",
      "metadata": {
        "id": "7db6af75-a712-452d-9b7c-1a6e4043cb61"
      },
      "source": [
        "# 5. Check and handle outliers in at least 3 columns in the dataset."
      ]
    },
    {
      "cell_type": "code",
      "execution_count": null,
      "id": "48c8d40d-80c8-4cbe-92fb-d16c9e3bf4b9",
      "metadata": {
        "id": "48c8d40d-80c8-4cbe-92fb-d16c9e3bf4b9",
        "outputId": "1b2fd9a1-3227-448d-ced4-0466709ef34c"
      },
      "outputs": [
        {
          "data": {
            "image/png": "[encoded data removed]",
            "text/plain": [
              "<Figure size 640x480 with 1 Axes>"
            ]
          },
          "metadata": {},
          "output_type": "display_data"
        }
      ],
      "source": [
        "plt.boxplot(df1['Fare'])\n",
        "plt.show()"
      ]
    },
    {
      "cell_type": "code",
      "execution_count": null,
      "id": "2a5a3cd8-258a-4b14-879f-dd182fd430ea",
      "metadata": {
        "id": "2a5a3cd8-258a-4b14-879f-dd182fd430ea",
        "outputId": "c24ccf76-1e76-4164-cee4-0cf760f58545"
      },
      "outputs": [
        {
          "data": {
            "text/plain": [
              "7.9104"
            ]
          },
          "execution_count": 281,
          "metadata": {},
          "output_type": "execute_result"
        }
      ],
      "source": [
        "Q1 = np.percentile(df1['Fare'],25)\n",
        "Q1"
      ]
    },
    {
      "cell_type": "code",
      "execution_count": null,
      "id": "596dedb3-7047-4aa9-a8ac-676ce0228cf7",
      "metadata": {
        "id": "596dedb3-7047-4aa9-a8ac-676ce0228cf7",
        "outputId": "ae916ce7-5804-471d-a970-259428851689"
      },
      "outputs": [
        {
          "data": {
            "text/plain": [
              "31.0"
            ]
          },
          "execution_count": 283,
          "metadata": {},
          "output_type": "execute_result"
        }
      ],
      "source": [
        "Q3 = np.percentile(df1['Fare'],75)\n",
        "Q3"
      ]
    },
    {
      "cell_type": "code",
      "execution_count": null,
      "id": "e22f53b7-7fed-492c-9576-bd62d6a691fc",
      "metadata": {
        "id": "e22f53b7-7fed-492c-9576-bd62d6a691fc",
        "outputId": "ea1059a9-4567-47a4-d20c-22fbb6fd446b"
      },
      "outputs": [
        {
          "data": {
            "text/plain": [
              "23.0896"
            ]
          },
          "execution_count": 285,
          "metadata": {},
          "output_type": "execute_result"
        }
      ],
      "source": [
        "IQR = Q3 - Q1\n",
        "IQR"
      ]
    },
    {
      "cell_type": "code",
      "execution_count": null,
      "id": "29b89bf4-a2e5-4479-a7a2-fe49d83ea80d",
      "metadata": {
        "id": "29b89bf4-a2e5-4479-a7a2-fe49d83ea80d",
        "outputId": "5a5e2fe4-8cec-4982-c244-6108a2b347db"
      },
      "outputs": [
        {
          "data": {
            "text/plain": [
              "-26.724"
            ]
          },
          "execution_count": 287,
          "metadata": {},
          "output_type": "execute_result"
        }
      ],
      "source": [
        "lower_limit = Q1 - 1.5*IQR\n",
        "lower_limit"
      ]
    },
    {
      "cell_type": "code",
      "execution_count": null,
      "id": "97d530af-419f-4081-8cd6-88ebe25de701",
      "metadata": {
        "id": "97d530af-419f-4081-8cd6-88ebe25de701",
        "outputId": "1b70497a-0bfe-47b3-a868-07abf984f01f"
      },
      "outputs": [
        {
          "data": {
            "text/plain": [
              "65.6344"
            ]
          },
          "execution_count": 289,
          "metadata": {},
          "output_type": "execute_result"
        }
      ],
      "source": [
        "upper_limit = Q3 + 1.5*IQR\n",
        "upper_limit"
      ]
    },
    {
      "cell_type": "code",
      "execution_count": null,
      "id": "a89621a3-ce76-4411-a3ed-04d9132a89f2",
      "metadata": {
        "id": "a89621a3-ce76-4411-a3ed-04d9132a89f2"
      },
      "outputs": [],
      "source": [
        "outlier=[]\n",
        "for x in df1['Fare']:\n",
        "  if x<lower_limit or x>upper_limit:\n",
        "    outlier.append(x)"
      ]
    },
    {
      "cell_type": "code",
      "execution_count": null,
      "id": "0954e9f8-7723-492b-89c4-88f0a33fe3b7",
      "metadata": {
        "colab": {
          "base_uri": "https://localhost:8080/",
          "height": 159
        },
        "id": "0954e9f8-7723-492b-89c4-88f0a33fe3b7",
        "outputId": "6c97b58f-f5a1-4c23-d450-890fa028815d"
      },
      "outputs": [
        {
          "output_type": "error",
          "ename": "NameError",
          "evalue": "name 'df1' is not defined",
          "traceback": [
            "\u001b[0;31m---------------------------------------------------------------------------\u001b[0m",
            "\u001b[0;31mNameError\u001b[0m                                 Traceback (most recent call last)",
            "\u001b[0;32m<ipython-input-3-074181365a73>\u001b[0m in \u001b[0;36m<cell line: 0>\u001b[0;34m()\u001b[0m\n\u001b[0;32m----> 1\u001b[0;31m \u001b[0mind\u001b[0m \u001b[0;34m=\u001b[0m \u001b[0mdf1\u001b[0m\u001b[0;34m[\u001b[0m\u001b[0;34m'Fare'\u001b[0m\u001b[0;34m]\u001b[0m\u001b[0;34m>\u001b[0m\u001b[0mupper_limit\u001b[0m\u001b[0;34m\u001b[0m\u001b[0;34m\u001b[0m\u001b[0m\n\u001b[0m\u001b[1;32m      2\u001b[0m \u001b[0mdf1\u001b[0m\u001b[0;34m.\u001b[0m\u001b[0mloc\u001b[0m\u001b[0;34m[\u001b[0m\u001b[0mind\u001b[0m\u001b[0;34m]\u001b[0m\u001b[0;34m.\u001b[0m\u001b[0mindex\u001b[0m\u001b[0;34m\u001b[0m\u001b[0;34m\u001b[0m\u001b[0m\n",
            "\u001b[0;31mNameError\u001b[0m: name 'df1' is not defined"
          ]
        }
      ],
      "source": [
        "ind = df1['Fare']>upper_limit\n",
        "df1.loc[ind].index"
      ]
    },
    {
      "cell_type": "code",
      "execution_count": null,
      "id": "6f74fa90-a997-4a28-a978-c823f7503c1e",
      "metadata": {
        "id": "6f74fa90-a997-4a28-a978-c823f7503c1e"
      },
      "outputs": [],
      "source": []
    }
  ],
  "metadata": {
    "kernelspec": {
      "display_name": "Python 3 (ipykernel)",
      "language": "python",
      "name": "python3"
    },
    "language_info": {
      "codemirror_mode": {
        "name": "ipython",
        "version": 3
      },
      "file_extension": ".py",
      "mimetype": "text/x-python",
      "name": "python",
      "nbconvert_exporter": "python",
      "pygments_lexer": "ipython3",
      "version": "3.12.7"
    },
    "colab": {
      "provenance": [],
      "include_colab_link": true
    }
  },
  "nbformat": 4,
  "nbformat_minor": 5
}