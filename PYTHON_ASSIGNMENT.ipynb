{
  "nbformat": 4,
  "nbformat_minor": 0,
  "metadata": {
    "colab": {
      "provenance": [],
      "authorship_tag": "ABX9TyNvmdTiAXc7I/GKK0yxowxJ",
      "include_colab_link": true
    },
    "kernelspec": {
      "name": "python3",
      "display_name": "Python 3"
    },
    "language_info": {
      "name": "python"
    }
  },
  "cells": [
    {
      "cell_type": "markdown",
      "metadata": {
        "id": "view-in-github",
        "colab_type": "text"
      },
      "source": [
        "<a href=\"https://colab.research.google.com/github/syamkrishnanharidas/DATA_ANALYTICS_PYTHON_ASSIGNMENT/blob/main/PYTHON_ASSIGNMENT.ipynb\" target=\"_parent\"><img src=\"https://colab.research.google.com/assets/colab-badge.svg\" alt=\"Open In Colab\"/></a>"
      ]
    },
    {
      "cell_type": "code",
      "execution_count": 4,
      "metadata": {
        "id": "CHg_nnA8cI_i",
        "colab": {
          "base_uri": "https://localhost:8080/"
        },
        "outputId": "28f444f6-1675-466f-c953-09e6d90265bf"
      },
      "outputs": [
        {
          "output_type": "stream",
          "name": "stdout",
          "text": [
            "Enter the number of items : 4\n",
            "Enter the grocery item name : apple\n",
            "Enter the grocery item price : 10\n",
            "Enter the grocery item name : milk\n",
            "Enter the grocery item price : 50\n",
            "Enter the grocery item name : orange\n",
            "Enter the grocery item price : 60\n",
            "Enter the grocery item name : carrot\n",
            "Enter the grocery item price : 30\n",
            "{'apple': 10, 'milk': 50, 'orange': 60, 'carrot': 30}\n",
            "The price of apple is 10\n",
            "The price of milk is 50\n",
            "The price of orange is 60\n",
            "The price of carrot is 30\n",
            "The total bill is 150\n"
          ]
        }
      ],
      "source": [
        "# 1.  Grocery Store Bill Calculator\n",
        "no_items=int(input(\"Enter the number of items : \"))\n",
        "grocery_bill={}\n",
        "while no_items>0:\n",
        "  keys=input(\"Enter the grocery item name : \")\n",
        "  values=int(input(\"Enter the grocery item price : \"))\n",
        "  grocery_bill[keys]=values\n",
        "  no_items=no_items-1\n",
        "total=0\n",
        "for items,price in grocery_bill.items():\n",
        "  print(f\"The price of {items} is {price}\")\n",
        "  total=total+price\n",
        "print(f\"The total bill is {total}\")"
      ]
    },
    {
      "cell_type": "code",
      "source": [
        "# 2. Student Grade Calculator\n",
        "average=0\n",
        "student_name=input(\"Enter the name of the student : \")\n",
        "total=0\n",
        "subject_name_list=[\"PHYSICS\",\"CHEMISTRY\",\"MATHEMATICS\",\"BOTANY\",\"ZOOLOGY\"]\n",
        "for i in range(5):\n",
        "  subject_name=subject_name_list[i]\n",
        "  subject_marks=0\n",
        "  subject_marks=float(input(f\"Enter the marks of the {subject_name} : \"))\n",
        "  total+=subject_marks\n",
        "  average=total/5\n",
        "if average>=90:\n",
        "  print(f\"NAME : {student_name}, AVERAGE : {average}, Grade : A\")\n",
        "elif average>=70 and average<90:\n",
        "  print(f\"NAME : {student_name}, AVERAGE : {average}, Grade : B\")\n",
        "elif average>=50 and average<70:\n",
        "  print(f\"NAME : {student_name} ,AVERAGE : {average}, Grade : C\")\n",
        "else:\n",
        "  print(f\"NAME : {student_name}, AVERAGE : {average}, Grade : F\")"
      ],
      "metadata": {
        "id": "WT2cDoBPdYNp",
        "colab": {
          "base_uri": "https://localhost:8080/"
        },
        "outputId": "a7c2b291-7030-4d87-974b-0b3e6ecbcfff"
      },
      "execution_count": 11,
      "outputs": [
        {
          "output_type": "stream",
          "name": "stdout",
          "text": [
            "Enter the name of the student : syam\n",
            "Enter the marks of the PHYSICS : 91\n",
            "Enter the marks of the CHEMISTRY : 92\n",
            "Enter the marks of the MATHEMATICS : 93\n",
            "Enter the marks of the BOTANY : 94\n",
            "Enter the marks of the ZOOLOGY : 95\n",
            "NAME : syam, AVERAGE : 93.0, Grade : A\n"
          ]
        }
      ]
    },
    {
      "cell_type": "code",
      "source": [
        "# 3. A movie theatre wants to automate ticket booking for customers.\n",
        "l1=[1,2,3,4,5,6,7,8,9,10,11,12,13,14,15,16,17,18,19,20]\n",
        "print(l1)\n",
        "while ((len(l1))>0):\n",
        "  seat_number=int(input(\"ENTER THE SEAT NUMBER TO BE BOOKED : \"))\n",
        "  if seat_number>20 or seat_number<1:\n",
        "    print(\"ENTER A VALID SEAT NUMBER\")\n",
        "  else:\n",
        "    print(f\"{seat_number} is booked : \")\n",
        "    l1.remove(seat_number)\n",
        "    print(l1)\n",
        "    seat_number=int(input(\"ENTER THE SEAT NUMBER TO BE BOOKED : \"))\n",
        "    print(f\"{seat_number} is booked : \")\n",
        "    l1.remove(seat_number)\n",
        "    print(l1)\n",
        "    if((len(l1))==0):\n",
        "      print(\"ALL SEATS ARE BOOKED\")\n",
        "      break"
      ],
      "metadata": {
        "id": "4zmsaC8kUG8G",
        "colab": {
          "base_uri": "https://localhost:8080/"
        },
        "outputId": "38f1fc17-d0bb-47a2-912c-56b9ec54114a"
      },
      "execution_count": 12,
      "outputs": [
        {
          "output_type": "stream",
          "name": "stdout",
          "text": [
            "[1, 2, 3, 4, 5, 6, 7, 8, 9, 10, 11, 12, 13, 14, 15, 16, 17, 18, 19, 20]\n",
            "ENTER THE SEAT NUMBER TO BE BOOKED : 20\n",
            "20 is booked : \n",
            "[1, 2, 3, 4, 5, 6, 7, 8, 9, 10, 11, 12, 13, 14, 15, 16, 17, 18, 19]\n",
            "ENTER THE SEAT NUMBER TO BE BOOKED : 19\n",
            "19 is booked : \n",
            "[1, 2, 3, 4, 5, 6, 7, 8, 9, 10, 11, 12, 13, 14, 15, 16, 17, 18]\n",
            "ENTER THE SEAT NUMBER TO BE BOOKED : 18\n",
            "18 is booked : \n",
            "[1, 2, 3, 4, 5, 6, 7, 8, 9, 10, 11, 12, 13, 14, 15, 16, 17]\n",
            "ENTER THE SEAT NUMBER TO BE BOOKED : 17\n",
            "17 is booked : \n",
            "[1, 2, 3, 4, 5, 6, 7, 8, 9, 10, 11, 12, 13, 14, 15, 16]\n",
            "ENTER THE SEAT NUMBER TO BE BOOKED : 16\n",
            "16 is booked : \n",
            "[1, 2, 3, 4, 5, 6, 7, 8, 9, 10, 11, 12, 13, 14, 15]\n",
            "ENTER THE SEAT NUMBER TO BE BOOKED : 15\n",
            "15 is booked : \n",
            "[1, 2, 3, 4, 5, 6, 7, 8, 9, 10, 11, 12, 13, 14]\n",
            "ENTER THE SEAT NUMBER TO BE BOOKED : 14\n",
            "14 is booked : \n",
            "[1, 2, 3, 4, 5, 6, 7, 8, 9, 10, 11, 12, 13]\n",
            "ENTER THE SEAT NUMBER TO BE BOOKED : 13\n",
            "13 is booked : \n",
            "[1, 2, 3, 4, 5, 6, 7, 8, 9, 10, 11, 12]\n",
            "ENTER THE SEAT NUMBER TO BE BOOKED : 12\n",
            "12 is booked : \n",
            "[1, 2, 3, 4, 5, 6, 7, 8, 9, 10, 11]\n",
            "ENTER THE SEAT NUMBER TO BE BOOKED : 11\n",
            "11 is booked : \n",
            "[1, 2, 3, 4, 5, 6, 7, 8, 9, 10]\n",
            "ENTER THE SEAT NUMBER TO BE BOOKED : 10\n",
            "10 is booked : \n",
            "[1, 2, 3, 4, 5, 6, 7, 8, 9]\n",
            "ENTER THE SEAT NUMBER TO BE BOOKED : 9\n",
            "9 is booked : \n",
            "[1, 2, 3, 4, 5, 6, 7, 8]\n",
            "ENTER THE SEAT NUMBER TO BE BOOKED : 8\n",
            "8 is booked : \n",
            "[1, 2, 3, 4, 5, 6, 7]\n",
            "ENTER THE SEAT NUMBER TO BE BOOKED : 7\n",
            "7 is booked : \n",
            "[1, 2, 3, 4, 5, 6]\n",
            "ENTER THE SEAT NUMBER TO BE BOOKED : 6\n",
            "6 is booked : \n",
            "[1, 2, 3, 4, 5]\n",
            "ENTER THE SEAT NUMBER TO BE BOOKED : 5\n",
            "5 is booked : \n",
            "[1, 2, 3, 4]\n",
            "ENTER THE SEAT NUMBER TO BE BOOKED : 4\n",
            "4 is booked : \n",
            "[1, 2, 3]\n",
            "ENTER THE SEAT NUMBER TO BE BOOKED : 3\n",
            "3 is booked : \n",
            "[1, 2]\n",
            "ENTER THE SEAT NUMBER TO BE BOOKED : 2\n",
            "2 is booked : \n",
            "[1]\n",
            "ENTER THE SEAT NUMBER TO BE BOOKED : 1\n",
            "1 is booked : \n",
            "[]\n",
            "ALL SEATS ARE BOOKED\n"
          ]
        }
      ]
    }
  ]
}